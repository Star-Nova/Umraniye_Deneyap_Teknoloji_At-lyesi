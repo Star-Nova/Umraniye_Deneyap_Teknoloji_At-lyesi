{
 "cells": [
  {
   "cell_type": "code",
   "execution_count": null,
   "id": "0f945e56-c9ee-4154-bcc1-016f80279462",
   "metadata": {},
   "outputs": [],
   "source": [
    "#Çeviri artık çalışıyor ve 52 farklı dil seçeneği ile karşınızda."
   ]
  },
  {
   "cell_type": "code",
   "execution_count": null,
   "id": "155e8036-526e-421f-af56-8e1184ddfee8",
   "metadata": {},
   "outputs": [],
   "source": [
    "#Telefonla arama eklenecek"
   ]
  },
  {
   "cell_type": "code",
   "execution_count": null,
   "id": "86f7212e-4209-43be-88f7-84f274a7a401",
   "metadata": {},
   "outputs": [],
   "source": [
    "#brightness çalışmıyor"
   ]
  },
  {
   "cell_type": "code",
   "execution_count": null,
   "id": "31b89a70-9851-486f-8ae3-742faa06c00b",
   "metadata": {},
   "outputs": [],
   "source": [
    "#volume çalışmıyor"
   ]
  },
  {
   "cell_type": "code",
   "execution_count": null,
   "id": "54dade7f-e2d2-4e4b-83a8-49cbb2ee407b",
   "metadata": {},
   "outputs": [],
   "source": [
    "#dessert komutu  çalışmıyor"
   ]
  },
  {
   "cell_type": "code",
   "execution_count": null,
   "id": "b25f1138-aea2-45b9-81e9-1a40a2026dff",
   "metadata": {},
   "outputs": [],
   "source": [
    "#şarkı söyleme eklenecek"
   ]
  },
  {
   "cell_type": "code",
   "execution_count": null,
   "id": "f97b97a3-7ad7-4803-af87-98ccf0c32157",
   "metadata": {},
   "outputs": [],
   "source": [
    "#kamera açma hatalı olabilir (elin hatlarını gösteren)"
   ]
  },
  {
   "cell_type": "code",
   "execution_count": null,
   "id": "e1f3dcd8-b2fc-4020-9db3-20c6920b333c",
   "metadata": {},
   "outputs": [],
   "source": [
    "#kamera ile fotoğraf çekme sonra test edilecek"
   ]
  },
  {
   "cell_type": "code",
   "execution_count": null,
   "id": "0094497b-d669-40b5-b0c1-abc12416327f",
   "metadata": {},
   "outputs": [],
   "source": [
    "#numara ya da kişi söylenip arama yapma EKLENECEK"
   ]
  },
  {
   "cell_type": "code",
   "execution_count": null,
   "id": "637c19cf-fe40-4335-8267-63f075b7e23f",
   "metadata": {},
   "outputs": [],
   "source": []
  },
  {
   "cell_type": "code",
   "execution_count": null,
   "id": "4cd2c9dd-c490-428b-bd83-427e370ce4e4",
   "metadata": {},
   "outputs": [],
   "source": [
    "Özellikler:"
   ]
  },
  {
   "cell_type": "code",
   "execution_count": null,
   "id": "97b8602f-748b-4a65-a637-b962f4bfb653",
   "metadata": {},
   "outputs": [],
   "source": []
  },
  {
   "cell_type": "code",
   "execution_count": null,
   "id": "dcf678dd-0086-477c-87bf-9adf10b87a95",
   "metadata": {},
   "outputs": [],
   "source": [
    "1-Sistem çıkış yapılabilmektedir."
   ]
  },
  {
   "cell_type": "code",
   "execution_count": null,
   "id": "c8e623b9-92d5-4387-936b-f05214574213",
   "metadata": {},
   "outputs": [],
   "source": [
    "2-Sistemi istenilen süre kadar bekletilebilinmektedir"
   ]
  },
  {
   "cell_type": "code",
   "execution_count": null,
   "id": "b95e2201-0e48-4456-87f9-5a24bd3c3594",
   "metadata": {},
   "outputs": [],
   "source": [
    "3-youtube search - istenilen şey buraya söylenir - diyerek youtubdan arama yapılabilmektedir."
   ]
  },
  {
   "cell_type": "code",
   "execution_count": null,
   "id": "446bdb0d-5792-404e-a510-0fd386429965",
   "metadata": {},
   "outputs": [],
   "source": [
    "4-\"can you play a joke on me\"diyerek yapay zeka bize küçük şakalar yapmaktadır. (Not: Şakalar pek komik değildir.)"
   ]
  },
  {
   "cell_type": "code",
   "execution_count": null,
   "id": "7b17955e-8348-40ff-8d06-21bca1a30b86",
   "metadata": {},
   "outputs": [],
   "source": [
    "5-\"how are you\" diyerek nasılsın diyebiliriz."
   ]
  },
  {
   "cell_type": "code",
   "execution_count": null,
   "id": "56d70687-00f2-4348-b87b-d531dc7ec241",
   "metadata": {},
   "outputs": [],
   "source": [
    "6-\"you love me-\" diye soru sorabiliriz"
   ]
  },
  {
   "cell_type": "code",
   "execution_count": null,
   "id": "19e4100a-c744-4a35-8e30-2842ed39e525",
   "metadata": {},
   "outputs": [],
   "source": [
    "7-\"what is your favorite country\" diyebiliriz."
   ]
  },
  {
   "cell_type": "code",
   "execution_count": null,
   "id": "460a99b6-7679-43bb-b670-e84ff7eed288",
   "metadata": {},
   "outputs": [],
   "source": [
    "8-\"who made you\" diyebiliriz"
   ]
  },
  {
   "cell_type": "code",
   "execution_count": null,
   "id": "8e0189d8-301f-49cc-93fe-843623295e91",
   "metadata": {},
   "outputs": [],
   "source": [
    "9-\"artificial intelligence examples\" diyebilir. "
   ]
  },
  {
   "cell_type": "code",
   "execution_count": null,
   "id": "15f6dd12-f5c6-4abe-b132-d98cfd858d2b",
   "metadata": {},
   "outputs": [],
   "source": [
    "10-\"what is your favorite color\" diyebiliriz"
   ]
  },
  {
   "cell_type": "code",
   "execution_count": null,
   "id": "2f4a6da1-a4c2-486a-91b6-ad73b2f70e5c",
   "metadata": {},
   "outputs": [],
   "source": [
    "11-\"set brightness  high/medium/low \" diyebiliriz"
   ]
  },
  {
   "cell_type": "code",
   "execution_count": null,
   "id": "319c09e9-86e5-4d2b-911d-b9564b2db5f4",
   "metadata": {},
   "outputs": [],
   "source": [
    "12-\"take a screenshot\" diyebiliriz"
   ]
  },
  {
   "cell_type": "code",
   "execution_count": null,
   "id": "dfa68656-dd8c-4cb1-8665-b128ade3535f",
   "metadata": {},
   "outputs": [],
   "source": [
    "13-\"suggest me a hobby\" hoby diyerek bize bir hobi önerir."
   ]
  },
  {
   "cell_type": "code",
   "execution_count": null,
   "id": "9c335456-9ec4-4f07-86ab-fc5cb676d000",
   "metadata": {},
   "outputs": [],
   "source": [
    "#Yemek ile ilgili sorular:"
   ]
  },
  {
   "cell_type": "code",
   "execution_count": null,
   "id": "1995255e-7deb-46f0-8490-2374899f9afd",
   "metadata": {},
   "outputs": [],
   "source": [
    "14-\"suggest me a dessert\" ile bize tatlı isimleri söyler"
   ]
  },
  {
   "cell_type": "code",
   "execution_count": null,
   "id": "06320c54-22df-4535-a336-0c6113583c2c",
   "metadata": {},
   "outputs": [],
   "source": [
    "15-\"suggest me a meat dishes\"  ile bize et yemekleri isimleri söyler"
   ]
  },
  {
   "cell_type": "code",
   "execution_count": null,
   "id": "dcd1d39e-3797-44f3-9ad5-3f6d2f8b9155",
   "metadata": {},
   "outputs": [],
   "source": [
    "16-\"suggest me a vegetable dish\" ile bize sebze yemekleri isimleri söyler"
   ]
  },
  {
   "cell_type": "code",
   "execution_count": null,
   "id": "8fd4797a-fb51-4626-bb27-109277331636",
   "metadata": {},
   "outputs": [],
   "source": [
    "17-\"suggest me a soup\" ile bize çorba isimleri söyler."
   ]
  },
  {
   "cell_type": "code",
   "execution_count": null,
   "id": "22e61680-6df7-4f60-a46f-fda1f55889f5",
   "metadata": {},
   "outputs": [],
   "source": [
    "18-\"suggest me a salad\" ile bize salata isimleri söyler"
   ]
  },
  {
   "cell_type": "code",
   "execution_count": null,
   "id": "3df386f5-c9c3-4c3c-8029-33697e52fd3a",
   "metadata": {},
   "outputs": [],
   "source": [
    "19-\"suggest me a bread\" ekmek isimleri söyler"
   ]
  },
  {
   "cell_type": "markdown",
   "id": "b2e91328-3e1d-4fd5-a996-126087048a29",
   "metadata": {
    "jp-MarkdownHeadingCollapsed": true
   },
   "source": [
    "20-\"suggest me a pastry\" hamur ile yemek tarifleri söyler"
   ]
  },
  {
   "cell_type": "code",
   "execution_count": null,
   "id": "fd4dbc42-b250-4ab7-ac01-f33bf347c9a7",
   "metadata": {},
   "outputs": [],
   "source": [
    "21-\"suggest me an ice cream\" dondurma isimleri söyler"
   ]
  },
  {
   "cell_type": "code",
   "execution_count": null,
   "id": "2c6272a2-bb4e-4070-85d2-26175619565b",
   "metadata": {},
   "outputs": [],
   "source": [
    "22-\"code problem\" diyerek kodlamayla ilgili sorularınız varsa yapay zeka çözer"
   ]
  },
  {
   "cell_type": "code",
   "execution_count": null,
   "id": "14f75d77-4951-44c2-9d64-77fecc0c96de",
   "metadata": {},
   "outputs": [],
   "source": [
    "23-\"what is the date\" diyerek şuanki zamanı söyler"
   ]
  },
  {
   "cell_type": "code",
   "execution_count": null,
   "id": "ac3638aa-5db1-49d5-9cd3-7f583f3aaaea",
   "metadata": {},
   "outputs": [],
   "source": [
    "24-\"please chat with me\" diyerek sizinle sohbet eder. (O kadar geniş sohbet edecek düzeyde değildir unutma)"
   ]
  },
  {
   "cell_type": "code",
   "execution_count": null,
   "id": "e710029d-942f-4d2a-b8ba-d98ebf6292ef",
   "metadata": {},
   "outputs": [],
   "source": [
    "#Tarayıcıları açmak için söylenecek şeyler"
   ]
  },
  {
   "cell_type": "code",
   "execution_count": null,
   "id": "c152ad12-7243-42ce-9d08-1bfd42a202e5",
   "metadata": {},
   "outputs": [],
   "source": [
    "25-\"open maps\" diyerek google haritaları açarız."
   ]
  },
  {
   "cell_type": "code",
   "execution_count": null,
   "id": "87124ca3-7640-4045-a2e5-6d0f408f10c6",
   "metadata": {},
   "outputs": [],
   "source": [
    "26-\"open bing\" diyerek bingi açarız"
   ]
  },
  {
   "cell_type": "code",
   "execution_count": null,
   "id": "e36e711d-093c-4ef9-b7a4-7d1ca5b1d853",
   "metadata": {},
   "outputs": [],
   "source": [
    "27-\"open google\" diyerek google açarız"
   ]
  },
  {
   "cell_type": "code",
   "execution_count": null,
   "id": "c0f9be9f-7dbe-41df-8e59-8f0791994fb2",
   "metadata": {},
   "outputs": [],
   "source": [
    "28-\"open opera\" diyerek operayı açarız"
   ]
  },
  {
   "cell_type": "code",
   "execution_count": null,
   "id": "7831f6de-4075-448a-b6b8-34a6fd658115",
   "metadata": {},
   "outputs": [],
   "source": [
    "29-\"open chrome\" diyerek chromeyi açarız"
   ]
  },
  {
   "cell_type": "code",
   "execution_count": null,
   "id": "e69cf48a-1459-47fa-be68-4e18d31b1a32",
   "metadata": {},
   "outputs": [],
   "source": [
    "30-\"open safari\" diyerek safariyi açarız"
   ]
  },
  {
   "cell_type": "code",
   "execution_count": null,
   "id": "43626a39-a15a-448b-9eb9-78b5b7c349f6",
   "metadata": {},
   "outputs": [],
   "source": [
    "31-\"open firefox\" diyerek fire foxu açarız."
   ]
  },
  {
   "cell_type": "code",
   "execution_count": null,
   "id": "62f4dc60-c0ea-4914-a8c2-da7d2b08782c",
   "metadata": {},
   "outputs": [],
   "source": [
    "#Chat vb. uygulamaları açmak için söylenecek şeyler"
   ]
  },
  {
   "cell_type": "code",
   "execution_count": null,
   "id": "766eb7f8-1719-46b5-b581-885e8bba6bf3",
   "metadata": {},
   "outputs": [],
   "source": [
    "32-\"open facebook\" diyerek facebook açarız"
   ]
  },
  {
   "cell_type": "code",
   "execution_count": null,
   "id": "075d29c3-d168-47ca-aaad-ddcafa4e88ce",
   "metadata": {},
   "outputs": [],
   "source": [
    "33-\"open instagram\" diyerek instagramı açarız."
   ]
  },
  {
   "cell_type": "code",
   "execution_count": null,
   "id": "e95c0f94-abaa-4f76-ba1e-3e120e138761",
   "metadata": {},
   "outputs": [],
   "source": [
    "34-\"open linkedin\" diyerek Linkedin'i açarız."
   ]
  },
  {
   "cell_type": "code",
   "execution_count": null,
   "id": "6d11e5f2-b4e1-4ad9-8de8-0977751faa80",
   "metadata": {},
   "outputs": [],
   "source": [
    "35-\"open x\" diyerek ya da eski ismiyle \"open twitter\" diyerek  X'i açarız"
   ]
  },
  {
   "cell_type": "code",
   "execution_count": null,
   "id": "3f9ac19d-b6df-461c-90b5-43d3ef13c3e1",
   "metadata": {},
   "outputs": [],
   "source": [
    "36-\"open WhatsApp\" diyerek WhatsApp açarız. \"open WhatsApp web\" diyerek WhatsApp Web açarız."
   ]
  },
  {
   "cell_type": "code",
   "execution_count": null,
   "id": "14826184-8aa1-4b58-bbed-44ed94d33493",
   "metadata": {},
   "outputs": [],
   "source": [
    "37-\"open reddit\" diyerek Reddit'i açarız"
   ]
  },
  {
   "cell_type": "code",
   "execution_count": null,
   "id": "3cba6ef9-47ce-4d9c-9b67-f757210586ef",
   "metadata": {},
   "outputs": [],
   "source": [
    "38-\"open pinterest\" diyerek pinteresti açarız."
   ]
  },
  {
   "cell_type": "code",
   "execution_count": null,
   "id": "dcb001a2-82ea-4e87-9050-d55cda3c5c8f",
   "metadata": {},
   "outputs": [],
   "source": [
    "39-\"open snapchat\" diyerek snapchati açarız."
   ]
  },
  {
   "cell_type": "code",
   "execution_count": null,
   "id": "d93a8eba-42f4-48fd-aee6-ef398bd02d93",
   "metadata": {},
   "outputs": [],
   "source": [
    "40-\"open tik tok\" diyerek tik toku açarız"
   ]
  },
  {
   "cell_type": "code",
   "execution_count": null,
   "id": "dbedb41e-a6ca-46f5-82a2-22b201b528fc",
   "metadata": {},
   "outputs": [],
   "source": [
    "41-\"open netflix\" diyerek netflixi açarız"
   ]
  },
  {
   "cell_type": "code",
   "execution_count": null,
   "id": "41f12b49-7313-40b4-b98b-2880987fffc8",
   "metadata": {},
   "outputs": [],
   "source": [
    "42-\"open discord\" diyerek discordu açarız."
   ]
  },
  {
   "cell_type": "code",
   "execution_count": null,
   "id": "1ef9348e-49b0-426f-b394-475fa756bb5d",
   "metadata": {},
   "outputs": [],
   "source": [
    "43-\"pen GitHub\" diyerek GitHubı açarız."
   ]
  },
  {
   "cell_type": "code",
   "execution_count": null,
   "id": "4ead2bef-3cbf-4af1-99af-a7ec0acc2548",
   "metadata": {},
   "outputs": [],
   "source": [
    "44-\"what is the weather\" diyerek hava durumuna bakarız"
   ]
  },
  {
   "cell_type": "code",
   "execution_count": null,
   "id": "95cc5943-8946-4d6d-b982-d3b5a416179c",
   "metadata": {},
   "outputs": [],
   "source": [
    "#Oyun önerileri"
   ]
  },
  {
   "cell_type": "code",
   "execution_count": null,
   "id": "c64ff247-9f29-432b-bf2e-be8ca51fa110",
   "metadata": {},
   "outputs": [],
   "source": [
    "45-\"suggest me a war game\" diyerek savaş oyunu önerir"
   ]
  },
  {
   "cell_type": "code",
   "execution_count": null,
   "id": "dd5a6f12-36ea-45d8-97f8-548ff7801ca3",
   "metadata": {},
   "outputs": [],
   "source": [
    "46-\"suggest me a story game\" diyerek hikaye oyunu önerir"
   ]
  },
  {
   "cell_type": "code",
   "execution_count": null,
   "id": "627fb41d-de93-4dd0-90b5-4e3a1fea3d2b",
   "metadata": {},
   "outputs": [],
   "source": [
    "45-\"suggest me a creativity game\" diyerek yaratıcılık oyunları önerir"
   ]
  },
  {
   "cell_type": "code",
   "execution_count": null,
   "id": "74b9a2bd-b2cd-4608-883a-bd2277c02496",
   "metadata": {},
   "outputs": [],
   "source": [
    "#Film önerileri"
   ]
  },
  {
   "cell_type": "code",
   "execution_count": null,
   "id": "ee529881-42ec-457f-b25c-ec7e34e1e0a2",
   "metadata": {},
   "outputs": [],
   "source": [
    "46-\"suggest me n action film\" diyerek aksiyon filmleri önerir."
   ]
  },
  {
   "cell_type": "code",
   "execution_count": null,
   "id": "d8c45521-f255-4e12-b38e-61e3616de414",
   "metadata": {},
   "outputs": [],
   "source": [
    "47-\"suggest me an animation film\" diyerek animasyon filmleri önerir."
   ]
  },
  {
   "cell_type": "code",
   "execution_count": null,
   "id": "0feb3460-f771-4e7d-a60a-9cc8e22b030d",
   "metadata": {},
   "outputs": [],
   "source": [
    "48-\"suggest me a comedy film\" diyerek komedi filmi önerir."
   ]
  },
  {
   "cell_type": "code",
   "execution_count": null,
   "id": "28d3ae42-4d94-4dbc-a3f3-737440fd0583",
   "metadata": {},
   "outputs": [],
   "source": [
    "49-\"suggest me a documentary film\" diyerek bize belgeseller önerir."
   ]
  },
  {
   "cell_type": "code",
   "execution_count": null,
   "id": "f288e7e1-2243-478b-89e3-e8b14bf0c052",
   "metadata": {},
   "outputs": [],
   "source": [
    "50-\"suggest me a drama film\" diyerek drama tarzı filmler önerir."
   ]
  },
  {
   "cell_type": "code",
   "execution_count": null,
   "id": "a81536ac-102c-4f76-b90f-e0156a6f7d20",
   "metadata": {},
   "outputs": [],
   "source": [
    "51-\"suggest me a historic film\" diyerek tarihi film önerir."
   ]
  },
  {
   "cell_type": "code",
   "execution_count": null,
   "id": "1d7f0bcb-eae4-4b59-8902-94c9d10dd629",
   "metadata": {},
   "outputs": [],
   "source": [
    "52-\"suggest me a horror film\" diyerek korku filmleri önerir"
   ]
  },
  {
   "cell_type": "code",
   "execution_count": null,
   "id": "85d77c5a-46c7-4e0c-a7b0-d770e130565c",
   "metadata": {},
   "outputs": [],
   "source": [
    "53-\"suggest me a romantic film\" romantik filler önerir."
   ]
  },
  {
   "cell_type": "code",
   "execution_count": null,
   "id": "6bd184ad-523c-48fe-96e9-44b2463e4bcc",
   "metadata": {},
   "outputs": [],
   "source": [
    "54-\"suggest me a science fiction film\" bilim kurgu filmleri önerir."
   ]
  },
  {
   "cell_type": "code",
   "execution_count": null,
   "id": "6572b028-549b-45e0-999a-7682bc9fabbb",
   "metadata": {},
   "outputs": [],
   "source": [
    "55- \"who -merak ettiğiniz kişi- \" diyerek o kişi hakkında Wikipedia'dan "
   ]
  },
  {
   "cell_type": "code",
   "execution_count": null,
   "id": "ff54945c-870c-4f42-bc35-6602b57a3634",
   "metadata": {},
   "outputs": [],
   "source": [
    "56-\"search -merak ettiğiniz şey- \" söyleyerek o şeyi google ile aratır."
   ]
  },
  {
   "cell_type": "code",
   "execution_count": null,
   "id": "c5c399df-5b9c-445a-8741-f6e743b48103",
   "metadata": {},
   "outputs": [],
   "source": [
    "57-\"send email\" diyerek istediğiniz kişiye mesaj yollayabilirsiniz."
   ]
  },
  {
   "cell_type": "code",
   "execution_count": null,
   "id": "ea0a8fa3-f5f5-4918-bc02-fa26d72acc6e",
   "metadata": {},
   "outputs": [],
   "source": [
    "58-\"işleminizi ingilizce söylediğiniz zaman sonucu yapar\" hesap makinesi toplama,çıkarma,çarpma ve bölme gibi özelliklere sahiptir."
   ]
  },
  {
   "cell_type": "code",
   "execution_count": null,
   "id": "87dabaca-7e01-46b6-ac9c-e902adb131b4",
   "metadata": {},
   "outputs": [],
   "source": [
    "59-\"translate\" dediğimiz zaman  yapay zeka bizi yönledirir ve çeviri yapmamızı sağlar."
   ]
  },
  {
   "cell_type": "code",
   "execution_count": null,
   "id": "fee3f456-052e-43fa-9264-3df66394088d",
   "metadata": {},
   "outputs": [],
   "source": [
    "60-\"söylediğin saniye kadar ses kaydı yapabilir ve kayıt ettiği sesi sana dinletir ayrıca arka planda output.wav diye ses dosyasını kaydeder\""
   ]
  },
  {
   "cell_type": "code",
   "execution_count": null,
   "id": "2a0e7833-3d76-4850-9688-ce4eaaf4b748",
   "metadata": {},
   "outputs": [],
   "source": [
    "61- \"open camera \" dediğin zaman ekrana elini gösterdiğin zaman ellerinin hatlarını sana gösterir."
   ]
  },
  {
   "cell_type": "code",
   "execution_count": null,
   "id": "3b0d3241-7ee0-442c-b085-a46870ac1107",
   "metadata": {},
   "outputs": [],
   "source": [
    "62-\"take photo\" dediğin zaman fotoğrafını çeker."
   ]
  },
  {
   "cell_type": "code",
   "execution_count": null,
   "id": "6a2de37f-3564-4eca-9fa1-dc8aaed78619",
   "metadata": {},
   "outputs": [],
   "source": [
    "63-\"suggest me a pop music\" dediğimiz zaman bize pop müzik önerir."
   ]
  },
  {
   "cell_type": "code",
   "execution_count": null,
   "id": "4141ba61-60f9-4ad5-b67c-26bf0121f28d",
   "metadata": {},
   "outputs": [],
   "source": [
    "64-\"suggest me a rock music\" dediğimiz zaman bize rock müzik önerir."
   ]
  },
  {
   "cell_type": "code",
   "execution_count": null,
   "id": "78f6b073-c4a3-43e1-8bb7-28d969d8709e",
   "metadata": {},
   "outputs": [],
   "source": [
    "65-\"suggest me a hip pop music\" dediğimiz zaman bize hip pop müzik önerir."
   ]
  },
  {
   "cell_type": "code",
   "execution_count": null,
   "id": "7e2ac3cd-7d01-41f5-8d3c-e19958ac41ad",
   "metadata": {},
   "outputs": [],
   "source": [
    "66-\"suggest me a country music\" dediğimiz zaman bize country müzik önerir."
   ]
  },
  {
   "cell_type": "code",
   "execution_count": null,
   "id": "6b0d58ee-2197-4c34-8a0a-39d21c1c0a9e",
   "metadata": {},
   "outputs": [],
   "source": [
    "67-\"suggest me a jazz music\" dediğimiz zaman bize jazz müzik önerir."
   ]
  },
  {
   "cell_type": "code",
   "execution_count": null,
   "id": "03e64dae-a76b-4d9e-b33f-28363e8697ce",
   "metadata": {},
   "outputs": [],
   "source": [
    "68-\"suggest me a jazz music\" dediğimiz zaman bize jazz müzik önerir."
   ]
  },
  {
   "cell_type": "code",
   "execution_count": null,
   "id": "13ee9838-42c4-424c-a56a-64824646cff1",
   "metadata": {},
   "outputs": [],
   "source": [
    "69-\"suggest me an electronic music\" dediğimiz zaman bize electronic müzik önerir."
   ]
  },
  {
   "cell_type": "code",
   "execution_count": null,
   "id": "c0883a7a-81b2-4b49-a028-4d8219f749ba",
   "metadata": {},
   "outputs": [],
   "source": [
    "70-\"suggest me a klasic music\" dediğimiz zaman bize klasic müzik önerir."
   ]
  },
  {
   "cell_type": "code",
   "execution_count": null,
   "id": "72947600-5e18-47e4-8675-7ffdf7034cee",
   "metadata": {},
   "outputs": [],
   "source": [
    "71-\"suggest me a latin music\" dediğimiz zaman bize latin müzik önerir."
   ]
  },
  {
   "cell_type": "code",
   "execution_count": null,
   "id": "aa614533-fad9-41cd-a871-04fde7bbd80c",
   "metadata": {},
   "outputs": [],
   "source": [
    "72-\"suggest me a folk music\" dediğimiz zaman bize folk müzik önerir."
   ]
  },
  {
   "cell_type": "code",
   "execution_count": null,
   "id": "edc85db6-8262-4a00-9f6e-f52388d9a1a8",
   "metadata": {},
   "outputs": [],
   "source": [
    "73-\"audio translate text\" dediğimiz zaman sesi metne çevirmemizi sağlar."
   ]
  },
  {
   "cell_type": "code",
   "execution_count": null,
   "id": "0f44370f-07db-454a-a72a-59fe3f2c28ff",
   "metadata": {},
   "outputs": [],
   "source": [
    "74-\"photo size\" dediğimiz zaman yazdığımız dosyanın boyutunu yazar"
   ]
  },
  {
   "cell_type": "code",
   "execution_count": null,
   "id": "e6b1a867-40f6-4c24-9760-071cfd5d81e9",
   "metadata": {},
   "outputs": [],
   "source": [
    "75-\"call telephone\" dediğimiz zaman istediğimiz kişiyi arayabiliriz."
   ]
  }
 ],
 "metadata": {
  "kernelspec": {
   "display_name": "Python 3 (ipykernel)",
   "language": "python",
   "name": "python3"
  },
  "language_info": {
   "codemirror_mode": {
    "name": "ipython",
    "version": 3
   },
   "file_extension": ".py",
   "mimetype": "text/x-python",
   "name": "python",
   "nbconvert_exporter": "python",
   "pygments_lexer": "ipython3",
   "version": "3.12.1"
  }
 },
 "nbformat": 4,
 "nbformat_minor": 5
}
